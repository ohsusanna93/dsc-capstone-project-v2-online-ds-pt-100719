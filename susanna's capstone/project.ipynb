{
 "cells": [
  {
   "cell_type": "code",
   "execution_count": 1,
   "metadata": {},
   "outputs": [],
   "source": [
    "import requests\n",
    "import json\n",
    "import csv\n",
    "from bs4 import BeautifulSoup\n",
    "import time"
   ]
  },
  {
   "cell_type": "code",
   "execution_count": 11,
   "metadata": {
    "scrolled": true
   },
   "outputs": [],
   "source": [
    "class ZillowScraper():\n",
    "    headers = {'accept': 'text/html,application/xhtml+xml,application/xml;q=0.9,image/webp,image/apng,*/*;q=0.8,application/signed-exchange;v=b3;q=0.9',\n",
    "                'accept-encoding': 'gzip, deflate, br',\n",
    "                'accept-language': 'en-US,en;q=0.9',\n",
    "                'cache-control': 'max-age=0',\n",
    "                'cookie': 'zguid=23|%24bf6750d0-ffc4-4736-bc7c-737656f6257b; _ga=GA1.2.1587369970.1595271965; zjs_anonymous_id=%22bf6750d0-ffc4-4736-bc7c-737656f6257b%22; _pxvid=1053c55a-cabc-11ea-9cc4-0242ac120005; _gcl_au=1.1.944134186.1595271970; _fbp=fb.1.1595271970915.211190209; __gads=ID=e7ff6ce23c96776f:T=1595271971:S=ALNI_MY1JXF--UcnujtoZ-R53SS6jrBTJA; G_ENABLED_IDPS=google; zjs_user_id=%22X1-ZU12ozzrc6awumh_xpn1%22; OptanonConsent=isIABGlobal=false&datestamp=Mon Jul 20 2020 14:22:41 GMT-0500 (Central Daylight Time)&version=5.11.0&landingPath=NotLandingPage&groups=1%3A1%2C3%3A1%2C4%3A0; g_state={\"i_p\":1596095107745,\"i_l\":1}; userid=X|3|6f95515a87e0f877%7C5%7CabzX6KUnhr-u9h5VznTfYMD2lNbKaE0_W1xEnVG9dU0%3D; loginmemento=1|a29e259fbede38288d360dedb0645766d8d1d47f1f6e4366006988baa7d78157; ki_r=; optimizelyEndUserId=oeu1596088138433r0.5257272424942192; _pin_unauth=dWlkPU5qZzNNVGMyWm1ZdFpUUTJZaTAwWXpjd0xXRmhPV1V0WW1Kak1XRXdNakZsWW1NMSZycD1kSEoxWlE; ki_s=; zgsession=1|a6cb0293-619f-4881-b035-bbfb56f42169; KruxPixel=true; DoubleClickSession=true; KruxAddition=true; JSESSIONID=9D1E8FB0E97705D2BD01E93F00279956; ZILLOW_SID=1|AAAAAVVbFRIBVVsVEmmXstMaGWiied6mz220J%2BKfkPIImmw0tPVmDqCrXF4O%2Bk%2BmHiLQarmwkTlbt%2Fui0wsqo0MT9rMM; _gid=GA1.2.392708527.1597802195; _derived_epik=dj0yJnU9Q20tZlFlcUdnVWk4Y2hZZG83NzFYYnlPTkZUUnY1Nm4mbj1aVkQxX29UeUNRYjQyREdIcVBad0hBJm09NyZ0PUFBQUFBRjg4aHRj; _px3=d443be8b33272214a9d0d5e9d83d16e9184c6b01165dd354031ee05e5b424eab:4K7NoT3k3hdkjxZpClPQzJinV+uy97j0wctfHLO7G4d5eGZBbanA7nLK5Fh5OdUNJ6yuR/wH+c+NWtzDiInqsw==:1000:bLCztu3syHOoORmqu0976t2LNac2WsCrFVCVCTuoR6DOw2g8nqywpzTvuyRpunh5DRJOq4b9mut9WZb5ulOVfMIdTQIY6whdyJzeer41CWbNEkrzOTFoOTAWdHqcd8XQkUctCNyRJcACoqnMb/IUok4jcMDa9MiQWvmRi+wDbqQ=; intercom-session-xby8p85u=L1dPZDl0dUdGblpmMnovb0hyaUFlSEVEZWRxUmdtc1kzdnV5Q0RyeGpSYWIrWXRxd0w0UlQ5WUVyVVl4MFY1ai0tMUpqcHpyMFdnRzhscmluYjVYN3hxQT09--e5209d9540b33f016a0488c9b2eb8d829e4361a1; _uetsid=4776572acf731b04a40223ea1fd6f89f; _uetvid=c2047787b1af49647f427b434721efa6; _gat=1; ki_t=1596088052742%3B1597763731703%3B1597802794834%3B4%3B111; AWSALB=oOJqzKC5UYOGg4HKEeomCFPM24FL4KJonHAoOzl2mtEq3XzZYya0+1zfWPTASYXM1vNihaDPkxMOrQVKGL9+c+5AxcDoOOCZj12xBsyPI6uumIS0TWjZvdOXnGxe; AWSALBCORS=oOJqzKC5UYOGg4HKEeomCFPM24FL4KJonHAoOzl2mtEq3XzZYya0+1zfWPTASYXM1vNihaDPkxMOrQVKGL9+c+5AxcDoOOCZj12xBsyPI6uumIS0TWjZvdOXnGxe; search=6|1600394794987%7Crect%3D33.01371776913924%252C-116.54468028300664%252C32.66757437532881%252C-117.49774424785039%26rid%3D54296%26disp%3Dmap%26mdm%3Dauto%26p%3D1%26sort%3Ddays%26z%3D0%26pt%3Dpmf%252Cpf%26fs%3D1%26fr%3D0%26mmm%3D1%26rs%3D0%26ah%3D0%26singlestory%3D0%26housing-connector%3D0%26abo%3D0%26garage%3D0%26pool%3D0%26ac%3D0%26waterfront%3D0%26finished%3D0%26unfinished%3D0%26cityview%3D0%26mountainview%3D0%26parkview%3D0%26waterview%3D0%26hoadata%3D1%26zillow-owned%3D0%263dhome%3D0%09%0954296%09%09%09%09%09%09',\n",
    "                'referer': 'https://www.zillow.com/homes/San-Diego,-CA_rb/?searchQueryState=%7B%22pagination%22%3A%7B%7D%2C%22usersSearchTerm%22%3A%22San%20Diego%2C%20CA%22%2C%22mapBounds%22%3A%7B%22west%22%3A-118.04841296484373%2C%22east%22%3A-116.14228503515623%2C%22south%22%3A32.41986096386817%2C%22north%22%3A33.2276724215883%7D%2C%22regionSelection%22%3A%5B%7B%22regionId%22%3A54296%2C%22regionType%22%3A6%7D%5D%2C%22isMapVisible%22%3Atrue%2C%22filterState%22%3A%7B%22fsba%22%3A%7B%22value%22%3Afalse%7D%2C%22fsbo%22%3A%7B%22value%22%3Afalse%7D%2C%22nc%22%3A%7B%22value%22%3Afalse%7D%2C%22fore%22%3A%7B%22value%22%3Afalse%7D%2C%22cmsn%22%3A%7B%22value%22%3Afalse%7D%2C%22auc%22%3A%7B%22value%22%3Afalse%7D%2C%22pmf%22%3A%7B%22value%22%3Afalse%7D%2C%22pf%22%3A%7B%22value%22%3Afalse%7D%2C%22fr%22%3A%7B%22value%22%3Atrue%7D%7D%2C%22isListVisible%22%3Atrue%2C%22mapZoom%22%3A9%7D',\n",
    "                'sec-fetch-dest': 'document',\n",
    "                'sec-fetch-mode': 'navigate',\n",
    "                'sec-fetch-site': 'same-origin',\n",
    "                'sec-fetch-user': '?1',\n",
    "                'upgrade-insecure-requests': '1',\n",
    "                'user-agent': 'Mozilla/5.0 (Macintosh; Intel Mac OS X 10_15_6) AppleWebKit/537.36 (KHTML, like Gecko) Chrome/84.0.4147.125 Safari/537.36',\n",
    "              }\n",
    " \n",
    "    results = []\n",
    "    \n",
    "    def pull(self, url, params):\n",
    "        #HTTP get request  \n",
    "        response = requests.get(url, headers=self.headers, params=params)\n",
    "        return response\n",
    "\n",
    "    def analyze_html(self, response):\n",
    "        #pulls data out of HTML - beauiful soup\n",
    "        \n",
    "        content = BeautifulSoup(response,'lxml') \n",
    "        resident_cards = content.find('ul',{'class': 'photo-cards photo-cards_wow photo-cards_short'})\n",
    "        for card in resident_cards.contents:\n",
    "            script =  card.find('script', {'type':'application/ld+json'})\n",
    "            #finds the individual resident cards\n",
    "            if script:\n",
    "                json_script = json.loads(script.contents[0])\n",
    "                self.results.append({\n",
    "                    'price': card.find('div',{'class':'list-card-price'}).text,\n",
    "                    'postalcode': json_script['address']['postalCode'],\n",
    "                    'floorsize': json_script['floorSize']['value'],\n",
    "                    'bedrooms': card.find_all('li')[0].text,\n",
    "                    'bathrooms': card.find_all('li')[1].text,\n",
    "                    'type': card.find('div',{'class':'list-card-type'}).text\n",
    "                }) \n",
    "            #print(self.results) - to check and see the results when making changes to the functions.\n",
    "            \n",
    "            \n",
    "    def open_csv(self):\n",
    "        with open('sandiego_zillow.csv','w') as csv_file:\n",
    "            writer = csv.DictWriter(csv_file, fieldnames=self.results[0].keys())\n",
    "            writer.writeheader()\n",
    "        \n",
    "            for row in self.results:\n",
    "                writer.writerow(row)\n",
    "                \n",
    "    def run(self):\n",
    "        #zillow pages information that is being scrapped.\n",
    "        url = 'https://www.zillow.com/homes/San-Diego,-CA_rb/?searchQueryState=%7B%22pagination%22%3A%7B%7D%2C%22usersSearchTerm%22%3A%22San%20Diego%2C%20CA%22%2C%22mapBounds%22%3A%7B%22west%22%3A-117.49774424785039%2C%22east%22%3A-116.54468028300664%2C%22south%22%3A32.66757437532881%2C%22north%22%3A33.01371776913924%7D%2C%22regionSelection%22%3A%5B%7B%22regionId%22%3A54296%2C%22regionType%22%3A6%7D%5D%2C%22isMapVisible%22%3Atrue%2C%22filterState%22%3A%7B%7D%2C%22isListVisible%22%3Atrue%7D'\n",
    "    \n",
    "        for page in range(1,21):\n",
    "            params = {\n",
    "            'searchQueryState': '{\"pagination\":{\"currentPage\": %s}:\"San Diego, CA\",\"mapBounds\":{\"west\":-117.49774424785039,\"east\":-116.54468028300664,\"south\":32.66757437532881,\"north\":33.01371776913924},\"regionSelection\":[{\"regionId\":54296,\"regionType\":6}],\"isMapVisible\":true,\"filterState\":{},\"isListVisible\":true}' %page\n",
    "            }\n",
    "            res = self.pull(url, params)\n",
    "            self.analyze_html(res.text)\n",
    "            time.sleep(2)\n",
    "        self.open_csv()\n",
    "           \n",
    "                \n",
    "if __name__ == '__main__':\n",
    "    scraper = ZillowScraper()\n",
    "    scraper.run()"
   ]
  },
  {
   "cell_type": "code",
   "execution_count": 12,
   "metadata": {},
   "outputs": [],
   "source": [
    "import pandas as pd"
   ]
  },
  {
   "cell_type": "code",
   "execution_count": 13,
   "metadata": {},
   "outputs": [],
   "source": [
    "df = pd.read_csv('sandiego_zillow.csv')"
   ]
  },
  {
   "cell_type": "code",
   "execution_count": 15,
   "metadata": {},
   "outputs": [
    {
     "data": {
      "text/html": [
       "<div>\n",
       "<style scoped>\n",
       "    .dataframe tbody tr th:only-of-type {\n",
       "        vertical-align: middle;\n",
       "    }\n",
       "\n",
       "    .dataframe tbody tr th {\n",
       "        vertical-align: top;\n",
       "    }\n",
       "\n",
       "    .dataframe thead th {\n",
       "        text-align: right;\n",
       "    }\n",
       "</style>\n",
       "<table border=\"1\" class=\"dataframe\">\n",
       "  <thead>\n",
       "    <tr style=\"text-align: right;\">\n",
       "      <th></th>\n",
       "      <th>price</th>\n",
       "      <th>postalcode</th>\n",
       "      <th>floorsize</th>\n",
       "      <th>bedrooms</th>\n",
       "      <th>bathrooms</th>\n",
       "      <th>type</th>\n",
       "    </tr>\n",
       "  </thead>\n",
       "  <tbody>\n",
       "    <tr>\n",
       "      <th>0</th>\n",
       "      <td>$725,000</td>\n",
       "      <td>92126</td>\n",
       "      <td>1,471</td>\n",
       "      <td>3 bds</td>\n",
       "      <td>2 ba</td>\n",
       "      <td>Coming soon</td>\n",
       "    </tr>\n",
       "    <tr>\n",
       "      <th>1</th>\n",
       "      <td>$1,359,000</td>\n",
       "      <td>92103</td>\n",
       "      <td>1,570</td>\n",
       "      <td>3 bds</td>\n",
       "      <td>2 ba</td>\n",
       "      <td>House for sale</td>\n",
       "    </tr>\n",
       "    <tr>\n",
       "      <th>2</th>\n",
       "      <td>$2,795,000</td>\n",
       "      <td>92103</td>\n",
       "      <td>4,013</td>\n",
       "      <td>4 bds</td>\n",
       "      <td>5 ba</td>\n",
       "      <td>House for sale</td>\n",
       "    </tr>\n",
       "    <tr>\n",
       "      <th>3</th>\n",
       "      <td>$799,000</td>\n",
       "      <td>92107</td>\n",
       "      <td>726</td>\n",
       "      <td>2 bds</td>\n",
       "      <td>1 ba</td>\n",
       "      <td>House for sale</td>\n",
       "    </tr>\n",
       "    <tr>\n",
       "      <th>4</th>\n",
       "      <td>$740,000</td>\n",
       "      <td>92115</td>\n",
       "      <td>1,006</td>\n",
       "      <td>3 bds</td>\n",
       "      <td>1 ba</td>\n",
       "      <td>House for sale</td>\n",
       "    </tr>\n",
       "  </tbody>\n",
       "</table>\n",
       "</div>"
      ],
      "text/plain": [
       "        price  postalcode floorsize bedrooms bathrooms            type\n",
       "0    $725,000       92126     1,471    3 bds      2 ba     Coming soon\n",
       "1  $1,359,000       92103     1,570    3 bds      2 ba  House for sale\n",
       "2  $2,795,000       92103     4,013    4 bds      5 ba  House for sale\n",
       "3    $799,000       92107       726    2 bds      1 ba  House for sale\n",
       "4    $740,000       92115     1,006    3 bds      1 ba  House for sale"
      ]
     },
     "execution_count": 15,
     "metadata": {},
     "output_type": "execute_result"
    }
   ],
   "source": [
    "df.head()"
   ]
  },
  {
   "cell_type": "code",
   "execution_count": 16,
   "metadata": {},
   "outputs": [
    {
     "name": "stdout",
     "output_type": "stream",
     "text": [
      "price \n",
      " $445,000      0.050\n",
      "$489,000      0.050\n",
      "$649,999      0.025\n",
      "$1,099,000    0.025\n",
      "$1,988,000    0.025\n",
      "Name: price, dtype: float64 \n",
      "\n",
      "\n",
      "postalcode \n",
      " 92101    0.125\n",
      "92103    0.125\n",
      "92129    0.100\n",
      "92126    0.075\n",
      "92131    0.050\n",
      "Name: postalcode, dtype: float64 \n",
      "\n",
      "\n",
      "floorsize \n",
      " 990      0.025\n",
      "1,570    0.025\n",
      "1,421    0.025\n",
      "744      0.025\n",
      "910      0.025\n",
      "Name: floorsize, dtype: float64 \n",
      "\n",
      "\n",
      "bedrooms \n",
      " 3 bds    0.375\n",
      "2 bds    0.350\n",
      "4 bds    0.100\n",
      "1 bd     0.100\n",
      "5 bds    0.050\n",
      "Name: bedrooms, dtype: float64 \n",
      "\n",
      "\n",
      "bathrooms \n",
      " 2 ba    0.425\n",
      "1 ba    0.250\n",
      "3 ba    0.200\n",
      "5 ba    0.075\n",
      "4 ba    0.025\n",
      "Name: bathrooms, dtype: float64 \n",
      "\n",
      "\n",
      "type \n",
      " House for sale        0.475\n",
      "Condo for sale        0.325\n",
      "Coming soon           0.100\n",
      "Townhouse for sale    0.050\n",
      "For sale by owner     0.025\n",
      "Name: type, dtype: float64 \n",
      "\n",
      "\n"
     ]
    }
   ],
   "source": [
    "for col in df.columns:\n",
    "    print(col,'\\n',df[col].value_counts(normalize=True).head(),'\\n\\n')"
   ]
  },
  {
   "cell_type": "code",
   "execution_count": 17,
   "metadata": {},
   "outputs": [
    {
     "name": "stdout",
     "output_type": "stream",
     "text": [
      "<class 'pandas.core.frame.DataFrame'>\n",
      "RangeIndex: 800 entries, 0 to 799\n",
      "Data columns (total 6 columns):\n",
      " #   Column      Non-Null Count  Dtype \n",
      "---  ------      --------------  ----- \n",
      " 0   price       800 non-null    object\n",
      " 1   postalcode  800 non-null    int64 \n",
      " 2   floorsize   800 non-null    object\n",
      " 3   bedrooms    800 non-null    object\n",
      " 4   bathrooms   800 non-null    object\n",
      " 5   type        800 non-null    object\n",
      "dtypes: int64(1), object(5)\n",
      "memory usage: 37.6+ KB\n"
     ]
    }
   ],
   "source": [
    "df.info()"
   ]
  },
  {
   "cell_type": "code",
   "execution_count": 18,
   "metadata": {},
   "outputs": [
    {
     "data": {
      "text/plain": [
       "array([92126, 92103, 92107, 92115, 92131, 92101, 92014, 92116, 92037,\n",
       "       92128, 92104, 92113, 92129, 92117, 92108, 92105, 92110, 92127,\n",
       "       92124, 92120, 92123])"
      ]
     },
     "execution_count": 18,
     "metadata": {},
     "output_type": "execute_result"
    }
   ],
   "source": [
    "df['postalcode'].unique()"
   ]
  },
  {
   "cell_type": "code",
   "execution_count": null,
   "metadata": {},
   "outputs": [],
   "source": []
  }
 ],
 "metadata": {
  "kernelspec": {
   "display_name": "Python 3",
   "language": "python",
   "name": "python3"
  },
  "language_info": {
   "codemirror_mode": {
    "name": "ipython",
    "version": 3
   },
   "file_extension": ".py",
   "mimetype": "text/x-python",
   "name": "python",
   "nbconvert_exporter": "python",
   "pygments_lexer": "ipython3",
   "version": "3.6.9"
  },
  "toc": {
   "base_numbering": 1,
   "nav_menu": {},
   "number_sections": true,
   "sideBar": true,
   "skip_h1_title": false,
   "title_cell": "Table of Contents",
   "title_sidebar": "Contents",
   "toc_cell": false,
   "toc_position": {
    "height": "calc(100% - 180px)",
    "left": "10px",
    "top": "150px",
    "width": "165px"
   },
   "toc_section_display": true,
   "toc_window_display": true
  },
  "varInspector": {
   "cols": {
    "lenName": 16,
    "lenType": 16,
    "lenVar": 40
   },
   "kernels_config": {
    "python": {
     "delete_cmd_postfix": "",
     "delete_cmd_prefix": "del ",
     "library": "var_list.py",
     "varRefreshCmd": "print(var_dic_list())"
    },
    "r": {
     "delete_cmd_postfix": ") ",
     "delete_cmd_prefix": "rm(",
     "library": "var_list.r",
     "varRefreshCmd": "cat(var_dic_list()) "
    }
   },
   "types_to_exclude": [
    "module",
    "function",
    "builtin_function_or_method",
    "instance",
    "_Feature"
   ],
   "window_display": false
  }
 },
 "nbformat": 4,
 "nbformat_minor": 4
}
